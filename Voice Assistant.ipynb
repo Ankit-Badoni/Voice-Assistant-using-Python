{
 "cells": [
  {
   "cell_type": "markdown",
   "id": "fbe60c40",
   "metadata": {},
   "source": [
    "#                         Voice Assistant using Python"
   ]
  },
  {
   "cell_type": "markdown",
   "id": "95697537",
   "metadata": {},
   "source": [
    "####  firstly we need to install all the necessary packages to make voice assistant"
   ]
  },
  {
   "cell_type": "code",
   "execution_count": 35,
   "id": "e895431a",
   "metadata": {},
   "outputs": [
    {
     "name": "stdout",
     "output_type": "stream",
     "text": [
      "Requirement already satisfied: SpeechRecognition in c:\\users\\ankit\\anaconda3\\lib\\site-packages (3.10.0)\n",
      "Requirement already satisfied: requests>=2.26.0 in c:\\users\\ankit\\anaconda3\\lib\\site-packages (from SpeechRecognition) (2.27.1)\n",
      "Requirement already satisfied: charset-normalizer~=2.0.0 in c:\\users\\ankit\\anaconda3\\lib\\site-packages (from requests>=2.26.0->SpeechRecognition) (2.0.4)\n",
      "Requirement already satisfied: certifi>=2017.4.17 in c:\\users\\ankit\\anaconda3\\lib\\site-packages (from requests>=2.26.0->SpeechRecognition) (2021.10.8)\n",
      "Requirement already satisfied: urllib3<1.27,>=1.21.1 in c:\\users\\ankit\\anaconda3\\lib\\site-packages (from requests>=2.26.0->SpeechRecognition) (1.26.9)\n",
      "Requirement already satisfied: idna<4,>=2.5 in c:\\users\\ankit\\anaconda3\\lib\\site-packages (from requests>=2.26.0->SpeechRecognition) (3.3)\n"
     ]
    }
   ],
   "source": [
    "!pip install SpeechRecognition"
   ]
  },
  {
   "cell_type": "code",
   "execution_count": 2,
   "id": "2f5ea73d",
   "metadata": {},
   "outputs": [
    {
     "name": "stdout",
     "output_type": "stream",
     "text": [
      "Collecting pyttsx3\n",
      "  Downloading pyttsx3-2.90-py3-none-any.whl (39 kB)\n",
      "Requirement already satisfied: pywin32 in c:\\users\\ankit\\anaconda3\\lib\\site-packages (from pyttsx3) (302)\n",
      "Requirement already satisfied: comtypes in c:\\users\\ankit\\anaconda3\\lib\\site-packages (from pyttsx3) (1.1.10)\n",
      "Collecting pypiwin32\n",
      "  Downloading pypiwin32-223-py3-none-any.whl (1.7 kB)\n",
      "Installing collected packages: pypiwin32, pyttsx3\n",
      "Successfully installed pypiwin32-223 pyttsx3-2.90\n"
     ]
    }
   ],
   "source": [
    "!pip install pyttsx3"
   ]
  },
  {
   "cell_type": "code",
   "execution_count": 3,
   "id": "163c337e",
   "metadata": {},
   "outputs": [
    {
     "name": "stdout",
     "output_type": "stream",
     "text": [
      "Collecting PyAudio\n",
      "  Downloading PyAudio-0.2.13-cp39-cp39-win_amd64.whl (164 kB)\n",
      "Installing collected packages: PyAudio\n",
      "Successfully installed PyAudio-0.2.13\n"
     ]
    }
   ],
   "source": [
    "!pip install PyAudio "
   ]
  },
  {
   "cell_type": "code",
   "execution_count": 20,
   "id": "2769cc4a",
   "metadata": {},
   "outputs": [
    {
     "name": "stdout",
     "output_type": "stream",
     "text": [
      "Collecting pywhatkit\n",
      "  Downloading pywhatkit-5.4-py3-none-any.whl (15 kB)\n",
      "Requirement already satisfied: Pillow in c:\\users\\ankit\\anaconda3\\lib\\site-packages (from pywhatkit) (9.0.1)\n",
      "Collecting wikipedia\n",
      "  Downloading wikipedia-1.4.0.tar.gz (27 kB)\n",
      "Requirement already satisfied: requests in c:\\users\\ankit\\anaconda3\\lib\\site-packages (from pywhatkit) (2.27.1)\n",
      "Requirement already satisfied: Flask in c:\\users\\ankit\\anaconda3\\lib\\site-packages (from pywhatkit) (1.1.2)\n",
      "Collecting pyautogui\n",
      "  Downloading PyAutoGUI-0.9.54.tar.gz (61 kB)\n",
      "  Installing build dependencies: started\n",
      "  Installing build dependencies: finished with status 'done'\n",
      "  Getting requirements to build wheel: started\n",
      "  Getting requirements to build wheel: finished with status 'done'\n",
      "    Preparing wheel metadata: started\n",
      "    Preparing wheel metadata: finished with status 'done'\n",
      "Requirement already satisfied: itsdangerous>=0.24 in c:\\users\\ankit\\anaconda3\\lib\\site-packages (from Flask->pywhatkit) (2.0.1)\n",
      "Requirement already satisfied: click>=5.1 in c:\\users\\ankit\\anaconda3\\lib\\site-packages (from Flask->pywhatkit) (8.0.4)\n",
      "Requirement already satisfied: Jinja2>=2.10.1 in c:\\users\\ankit\\anaconda3\\lib\\site-packages (from Flask->pywhatkit) (2.11.3)\n",
      "Requirement already satisfied: Werkzeug>=0.15 in c:\\users\\ankit\\anaconda3\\lib\\site-packages (from Flask->pywhatkit) (2.0.3)\n",
      "Requirement already satisfied: colorama in c:\\users\\ankit\\anaconda3\\lib\\site-packages (from click>=5.1->Flask->pywhatkit) (0.4.4)\n",
      "Requirement already satisfied: MarkupSafe>=0.23 in c:\\users\\ankit\\anaconda3\\lib\\site-packages (from Jinja2>=2.10.1->Flask->pywhatkit) (2.0.1)\n",
      "Collecting pygetwindow>=0.0.5\n",
      "  Downloading PyGetWindow-0.0.9.tar.gz (9.7 kB)\n",
      "Collecting pytweening>=1.0.4\n",
      "  Downloading pytweening-1.0.7.tar.gz (168 kB)\n",
      "Collecting mouseinfo\n",
      "  Downloading MouseInfo-0.1.3.tar.gz (10 kB)\n",
      "Collecting pymsgbox\n",
      "  Downloading PyMsgBox-1.0.9.tar.gz (18 kB)\n",
      "  Installing build dependencies: started\n",
      "  Installing build dependencies: finished with status 'done'\n",
      "  Getting requirements to build wheel: started\n",
      "  Getting requirements to build wheel: finished with status 'done'\n",
      "    Preparing wheel metadata: started\n",
      "    Preparing wheel metadata: finished with status 'done'\n",
      "Collecting pyscreeze>=0.1.21\n",
      "  Downloading PyScreeze-0.1.29.tar.gz (25 kB)\n",
      "  Installing build dependencies: started\n",
      "  Installing build dependencies: finished with status 'done'\n",
      "  Getting requirements to build wheel: started\n",
      "  Getting requirements to build wheel: finished with status 'done'\n",
      "    Preparing wheel metadata: started\n",
      "    Preparing wheel metadata: finished with status 'done'\n",
      "Collecting pyrect\n",
      "  Downloading PyRect-0.2.0.tar.gz (17 kB)\n",
      "Collecting Pillow\n",
      "  Downloading Pillow-10.0.1-cp39-cp39-win_amd64.whl (2.5 MB)\n",
      "Collecting pyscreenshot\n",
      "  Downloading pyscreenshot-3.1-py3-none-any.whl (28 kB)\n",
      "Collecting pyperclip\n",
      "  Downloading pyperclip-1.8.2.tar.gz (20 kB)\n",
      "Collecting entrypoint2\n",
      "  Downloading entrypoint2-1.1-py2.py3-none-any.whl (9.9 kB)\n",
      "Collecting mss\n",
      "  Downloading mss-9.0.1-py3-none-any.whl (22 kB)\n",
      "Collecting EasyProcess\n",
      "  Downloading EasyProcess-1.1-py3-none-any.whl (8.7 kB)\n",
      "Requirement already satisfied: charset-normalizer~=2.0.0 in c:\\users\\ankit\\anaconda3\\lib\\site-packages (from requests->pywhatkit) (2.0.4)\n",
      "Requirement already satisfied: idna<4,>=2.5 in c:\\users\\ankit\\anaconda3\\lib\\site-packages (from requests->pywhatkit) (3.3)\n",
      "Requirement already satisfied: urllib3<1.27,>=1.21.1 in c:\\users\\ankit\\anaconda3\\lib\\site-packages (from requests->pywhatkit) (1.26.9)\n",
      "Requirement already satisfied: certifi>=2017.4.17 in c:\\users\\ankit\\anaconda3\\lib\\site-packages (from requests->pywhatkit) (2021.10.8)\n",
      "Requirement already satisfied: beautifulsoup4 in c:\\users\\ankit\\anaconda3\\lib\\site-packages (from wikipedia->pywhatkit) (4.11.1)\n",
      "Requirement already satisfied: soupsieve>1.2 in c:\\users\\ankit\\anaconda3\\lib\\site-packages (from beautifulsoup4->wikipedia->pywhatkit) (2.3.1)\n",
      "Building wheels for collected packages: pyautogui, pygetwindow, pyscreeze, pytweening, mouseinfo, pymsgbox, pyperclip, pyrect, wikipedia\n",
      "  Building wheel for pyautogui (PEP 517): started\n",
      "  Building wheel for pyautogui (PEP 517): finished with status 'done'\n",
      "  Created wheel for pyautogui: filename=PyAutoGUI-0.9.54-py3-none-any.whl size=37597 sha256=789ac1e7c9b8cd8d7028c4b5653b15c5e408ed330958c3c9f5e5fd5238637699\n",
      "  Stored in directory: c:\\users\\ankit\\appdata\\local\\pip\\cache\\wheels\\29\\2b\\5f\\9df8525a15d14d1a3ba04fe66e5bd3d2dc8ca7f5fb2ab2ec50\n",
      "  Building wheel for pygetwindow (setup.py): started\n",
      "  Building wheel for pygetwindow (setup.py): finished with status 'done'\n",
      "  Created wheel for pygetwindow: filename=PyGetWindow-0.0.9-py3-none-any.whl size=11081 sha256=c4c9ceab006dc519702a6d690bf1af4e6c6be1d625448197ae556e9a35a67bf2\n",
      "  Stored in directory: c:\\users\\ankit\\appdata\\local\\pip\\cache\\wheels\\44\\ab\\20\\423c3a444793767e4e41f8377bc902f77bee212e68dcce85a5\n",
      "  Building wheel for pyscreeze (PEP 517): started\n",
      "  Building wheel for pyscreeze (PEP 517): finished with status 'done'\n",
      "  Created wheel for pyscreeze: filename=PyScreeze-0.1.29-py3-none-any.whl size=13484 sha256=7b5be4a0ad3138c8eca39f3a5806899736b3409c3edb43ad01a28b82b68e266b\n",
      "  Stored in directory: c:\\users\\ankit\\appdata\\local\\pip\\cache\\wheels\\ed\\f7\\a9\\cbb6e0cc3bcec306b5778375f69ccd0ac53f4061f28a487e3b\n",
      "  Building wheel for pytweening (setup.py): started\n",
      "  Building wheel for pytweening (setup.py): finished with status 'done'\n",
      "  Created wheel for pytweening: filename=pytweening-1.0.7-py3-none-any.whl size=6215 sha256=c3448a7f72b8fd58ee6f154e4ef592deb01908224a8591ae3ed637ecfc9187ef\n",
      "  Stored in directory: c:\\users\\ankit\\appdata\\local\\pip\\cache\\wheels\\d1\\d6\\29\\c2adb2c73f3e9ac2486786fe1f16e8036bd062205303e1ed6a\n",
      "  Building wheel for mouseinfo (setup.py): started\n",
      "  Building wheel for mouseinfo (setup.py): finished with status 'done'\n",
      "  Created wheel for mouseinfo: filename=MouseInfo-0.1.3-py3-none-any.whl size=10906 sha256=fd5bef5ed4e8fd014475a6559ec4cfca30ad8757c103b1b5053b72e05bf9a12c\n",
      "  Stored in directory: c:\\users\\ankit\\appdata\\local\\pip\\cache\\wheels\\61\\73\\b9\\6fb1131ab36e650206e3aa0ad7a68907b41b32ac2d4f75f543\n",
      "  Building wheel for pymsgbox (PEP 517): started\n",
      "  Building wheel for pymsgbox (PEP 517): finished with status 'done'\n",
      "  Created wheel for pymsgbox: filename=PyMsgBox-1.0.9-py3-none-any.whl size=7417 sha256=79d02bfab1f19efd5c9046b7a30796f25468eead1b4c9aeb9b9d5ac7638a4229\n",
      "  Stored in directory: c:\\users\\ankit\\appdata\\local\\pip\\cache\\wheels\\7f\\13\\8c\\584c519464297d9637f9cd29fd1dcdf55e2a2cab225c76a2db\n",
      "  Building wheel for pyperclip (setup.py): started\n",
      "  Building wheel for pyperclip (setup.py): finished with status 'done'\n",
      "  Created wheel for pyperclip: filename=pyperclip-1.8.2-py3-none-any.whl size=11137 sha256=b64bd376b833538e4b83451443262c97fc07ed1f9850b666fc3b8a8597371f9e\n",
      "  Stored in directory: c:\\users\\ankit\\appdata\\local\\pip\\cache\\wheels\\0c\\09\\9e\\49e21a6840ef7955b06d47394afef0058f0378c0914e48b8b8\n",
      "  Building wheel for pyrect (setup.py): started\n",
      "  Building wheel for pyrect (setup.py): finished with status 'done'\n",
      "  Created wheel for pyrect: filename=PyRect-0.2.0-py2.py3-none-any.whl size=11196 sha256=af569beee6f3977c6e255d54b39e8818fadd736b70629596e494b1167cddb8de\n",
      "  Stored in directory: c:\\users\\ankit\\appdata\\local\\pip\\cache\\wheels\\25\\80\\fa\\27bb4a1c2e21f64ec71390489d52e57b7cc8afbe79bd595c5e\n",
      "  Building wheel for wikipedia (setup.py): started\n",
      "  Building wheel for wikipedia (setup.py): finished with status 'done'\n",
      "  Created wheel for wikipedia: filename=wikipedia-1.4.0-py3-none-any.whl size=11695 sha256=d9fe708fb47e2067324d246ef1dbd2848cce0c4627a7ae979688d3f8df799cf2\n",
      "  Stored in directory: c:\\users\\ankit\\appdata\\local\\pip\\cache\\wheels\\c2\\46\\f4\\caa1bee71096d7b0cdca2f2a2af45cacf35c5760bee8f00948\n",
      "Successfully built pyautogui pygetwindow pyscreeze pytweening mouseinfo pymsgbox pyperclip pyrect wikipedia\n",
      "Installing collected packages: mss, entrypoint2, EasyProcess, pyscreenshot, pyrect, pyperclip, Pillow, pytweening, pyscreeze, pymsgbox, pygetwindow, mouseinfo, wikipedia, pyautogui, pywhatkit\n",
      "  Attempting uninstall: Pillow\n",
      "    Found existing installation: Pillow 9.0.1\n",
      "    Uninstalling Pillow-9.0.1:\n",
      "      Successfully uninstalled Pillow-9.0.1\n",
      "Successfully installed EasyProcess-1.1 Pillow-10.0.1 entrypoint2-1.1 mouseinfo-0.1.3 mss-9.0.1 pyautogui-0.9.54 pygetwindow-0.0.9 pymsgbox-1.0.9 pyperclip-1.8.2 pyrect-0.2.0 pyscreenshot-3.1 pyscreeze-0.1.29 pytweening-1.0.7 pywhatkit-5.4 wikipedia-1.4.0\n"
     ]
    }
   ],
   "source": [
    "!pip install pywhatkit"
   ]
  },
  {
   "cell_type": "code",
   "execution_count": 63,
   "id": "75ac3950",
   "metadata": {},
   "outputs": [
    {
     "name": "stdout",
     "output_type": "stream",
     "text": [
      "Requirement already satisfied: wikipedia in c:\\users\\ankit\\anaconda3\\lib\\site-packages (1.4.0)\n",
      "Requirement already satisfied: beautifulsoup4 in c:\\users\\ankit\\anaconda3\\lib\\site-packages (from wikipedia) (4.11.1)\n",
      "Requirement already satisfied: requests<3.0.0,>=2.0.0 in c:\\users\\ankit\\anaconda3\\lib\\site-packages (from wikipedia) (2.27.1)\n",
      "Requirement already satisfied: idna<4,>=2.5 in c:\\users\\ankit\\anaconda3\\lib\\site-packages (from requests<3.0.0,>=2.0.0->wikipedia) (3.3)\n",
      "Requirement already satisfied: urllib3<1.27,>=1.21.1 in c:\\users\\ankit\\anaconda3\\lib\\site-packages (from requests<3.0.0,>=2.0.0->wikipedia) (1.26.9)\n",
      "Requirement already satisfied: certifi>=2017.4.17 in c:\\users\\ankit\\anaconda3\\lib\\site-packages (from requests<3.0.0,>=2.0.0->wikipedia) (2021.10.8)\n",
      "Requirement already satisfied: charset-normalizer~=2.0.0 in c:\\users\\ankit\\anaconda3\\lib\\site-packages (from requests<3.0.0,>=2.0.0->wikipedia) (2.0.4)\n",
      "Requirement already satisfied: soupsieve>1.2 in c:\\users\\ankit\\anaconda3\\lib\\site-packages (from beautifulsoup4->wikipedia) (2.3.1)\n"
     ]
    }
   ],
   "source": [
    "!pip install wikipedia"
   ]
  },
  {
   "cell_type": "markdown",
   "id": "c9597f22",
   "metadata": {},
   "source": [
    "### Now the code begins with here"
   ]
  },
  {
   "cell_type": "code",
   "execution_count": 1,
   "id": "2e5ac500",
   "metadata": {},
   "outputs": [],
   "source": [
    "import speech_recognition as sr\n",
    "import pyttsx3 as tts\n",
    "import pywhatkit as wk\n",
    "import datetime as dt\n",
    "import wikipedia as wiki\n",
    "import webbrowser\n",
    "from selenium import webdriver\n",
    "from selenium.webdriver.common.keys import Keys"
   ]
  },
  {
   "cell_type": "code",
   "execution_count": 2,
   "id": "d16dc21b",
   "metadata": {},
   "outputs": [],
   "source": [
    "r=sr.Recognizer()\n",
    "speaker=tts.init()\n",
    "voices=speaker.getProperty('voices')\n",
    "speaker.setProperty('voice',voices[1].id) # To set the female voice"
   ]
  },
  {
   "cell_type": "code",
   "execution_count": 33,
   "id": "a5ca016e",
   "metadata": {},
   "outputs": [],
   "source": [
    "def setCommand():\n",
    "    \"This function is used to take voice input from the user\"\n",
    "    \n",
    "    with sr.Microphone() as source:\n",
    "        print(\".           Listening......\")\n",
    "        try:\n",
    "            voice=r.listen(source)\n",
    "            r.energy_threshold =400\n",
    "            r.pause_threshold = 1\n",
    "            command=r.recognize_google(voice)\n",
    "            print(\"YOU:\",command)\n",
    "            command=command\n",
    "            return command\n",
    "        except:\n",
    "            text=\"Sorry couldn't process it at this moment please try again\"\n",
    "            print(text)\n",
    "            exit()\n",
    "    \n",
    "    \n",
    "def speak(command):\n",
    "    \"This function is used to make your voice assistant capable to speak.\"\n",
    "    print(\"Assistant:\",command)\n",
    "    speaker.say(command)\n",
    "    speaker.runAndWait()\n",
    "\n",
    "def execution():\n",
    "    \"This is main executable function which perform all the task given by the user\"\n",
    "    \n",
    "    audio=setCommand()\n",
    "    audio=audio.lower()\n",
    "    \n",
    "    if 'play' in audio:\n",
    "        song=audio.replace('play','')\n",
    "        speak('playing '+song)\n",
    "        wk.playonyt(song)\n",
    "    elif 'the time' in audio:\n",
    "        time=dt.datetime.now().strftime('%I:%M %p')\n",
    "        speak(\"the current time is \"+time)\n",
    "    elif 'who is' in audio:\n",
    "        data=audio.replace(\"who is\",'')\n",
    "        try:\n",
    "            info=wiki.summary(data,3)\n",
    "            speak(info)\n",
    "        except:\n",
    "            speak(\"Sorry,I couldn't find this in wikipedia \")       \n",
    "    elif 'open youtube' in audio:\n",
    "        speak('opening youtube')\n",
    "        webbrowser.open(\"youtube.com\")\n",
    "    elif 'open google' in audio:\n",
    "        speak('opening google')\n",
    "        webbrowser.open_new_tab(\"google.com\")\n",
    "    elif 'open facebook' in audio:\n",
    "        speak('opening facebook')\n",
    "        webbrowser.open_new_tab(\"facebook.com\")\n",
    "    elif 'open instagram' in audio:\n",
    "        speak('opening instagram')\n",
    "        webbrowser.open_new_tab(\"Instagram.com\")\n",
    "    elif 'open whatsapp' in audio:\n",
    "        speak('opening whatsapp')\n",
    "        webbrowser.open_new_tab(\"whatsapp.com\")\n",
    "    elif 'open twitter' in audio:\n",
    "        speak('opening twitter')\n",
    "        webbrowser.open_new_tab(\"twitter.com\")\n",
    "    elif 'search' in audio:\n",
    "        data=audio.replace('search','')\n",
    "        data=data.replace('in google','')\n",
    "        speak(\"searching \"+data+\" in google\")\n",
    "        global driver\n",
    "        driver=webdriver.Chrome()\n",
    "        driver.get(\"https://www.google.com/\")\n",
    "        find=driver.find_element(\"name\", \"q\")\n",
    "        find.send_keys(data)\n",
    "        find.send_keys(Keys.ENTER)\n",
    "    else:\n",
    "        speak(\"sorry i can't process this command \")\n",
    "    "
   ]
  },
  {
   "cell_type": "markdown",
   "id": "ec0a24c9",
   "metadata": {},
   "source": [
    "### Calling the execution() function to run the program"
   ]
  },
  {
   "cell_type": "code",
   "execution_count": 34,
   "id": "98ff03da",
   "metadata": {},
   "outputs": [
    {
     "name": "stdout",
     "output_type": "stream",
     "text": [
      ".           Listening......\n",
      "YOU: who is Donald Trump\n",
      "Assistant: Donald John Trump (born June 14, 1946) is an American politician, media personality, and businessman who served as the 45th president of the United States from 2017 to 2021.\n",
      "Trump graduated from the University of Pennsylvania with a bachelor's degree in economics in 1968. He became president of his father's real-estate business in 1971 and renamed it the Trump Organization.\n"
     ]
    }
   ],
   "source": [
    "execution()"
   ]
  },
  {
   "cell_type": "code",
   "execution_count": null,
   "id": "5a9ae2d0",
   "metadata": {},
   "outputs": [],
   "source": []
  }
 ],
 "metadata": {
  "kernelspec": {
   "display_name": "Python 3 (ipykernel)",
   "language": "python",
   "name": "python3"
  },
  "language_info": {
   "codemirror_mode": {
    "name": "ipython",
    "version": 3
   },
   "file_extension": ".py",
   "mimetype": "text/x-python",
   "name": "python",
   "nbconvert_exporter": "python",
   "pygments_lexer": "ipython3",
   "version": "3.9.12"
  }
 },
 "nbformat": 4,
 "nbformat_minor": 5
}
